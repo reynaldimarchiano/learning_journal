{
 "cells": [
  {
   "cell_type": "code",
   "execution_count": 1,
   "metadata": {},
   "outputs": [],
   "source": [
    "#Import Library\n",
    "import numpy as np\n",
    "\n"
   ]
  },
  {
   "cell_type": "code",
   "execution_count": 2,
   "metadata": {},
   "outputs": [
    {
     "name": "stdout",
     "output_type": "stream",
     "text": [
      "[1, 2, 3, 4, 5]\n",
      "<class 'list'>\n",
      "[1 2 3 4 5]\n",
      "<class 'numpy.ndarray'>\n"
     ]
    }
   ],
   "source": [
    "# Perubahan dari List ke Array\n",
    "# np.array()\n",
    "a=[1,2,3,4,5]\n",
    "print(a)\n",
    "print(type(a))\n",
    "\n",
    "b = np.array(a)\n",
    "print(b)\n",
    "print(type(b))"
   ]
  },
  {
   "cell_type": "code",
   "execution_count": 8,
   "metadata": {},
   "outputs": [
    {
     "name": "stdout",
     "output_type": "stream",
     "text": [
      "<class 'list'>\n",
      "[[1, 2, 3], [3, 4, 5], [6, 7, 8]]\n"
     ]
    },
    {
     "data": {
      "text/plain": [
       "array([[1, 2, 3],\n",
       "       [3, 4, 5],\n",
       "       [6, 7, 8]])"
      ]
     },
     "execution_count": 8,
     "metadata": {},
     "output_type": "execute_result"
    }
   ],
   "source": [
    "# Membuat Array 2D\n",
    "# Lihat seberapa banyak kurung siku di awal untuk menentukan jumlah dimensi\n",
    "c = [[1,2,3],\n",
    "     [3,4,5],[6,7,8]]\n",
    "print(type(c))\n",
    "print(c)\n",
    "c = np.array(c)\n",
    "c\n"
   ]
  },
  {
   "cell_type": "code",
   "execution_count": 9,
   "metadata": {},
   "outputs": [
    {
     "name": "stdout",
     "output_type": "stream",
     "text": [
      "(3, 3)\n"
     ]
    }
   ],
   "source": [
    "#Menentukan ukuran suatu array\n",
    "#.shape\n",
    "print(c.shape)\n"
   ]
  },
  {
   "cell_type": "code",
   "execution_count": 45,
   "metadata": {},
   "outputs": [],
   "source": [
    "#Menentukan jumlah total elemen suatu array\n",
    "#.size\n"
   ]
  },
  {
   "cell_type": "code",
   "execution_count": 46,
   "metadata": {},
   "outputs": [],
   "source": [
    "#Indexing & Slicing\n",
    "\n",
    "\n",
    "#Mengubah urutan array 1D dari belakang ke depan (Descending)\n",
    "\n"
   ]
  },
  {
   "cell_type": "markdown",
   "metadata": {},
   "source": [
    "**NOMOR 1**\n",
    "\n",
    "Buatlah sebuah array seperti dibawah ini dan tambahkan setiap elemennya dengan `1`.\n",
    "\n",
    "```\n",
    "a = [10, 20, 30, 40, 50]\n",
    "```"
   ]
  },
  {
   "cell_type": "code",
   "execution_count": 12,
   "metadata": {},
   "outputs": [
    {
     "ename": "TypeError",
     "evalue": "can only concatenate list (not \"int\") to list",
     "output_type": "error",
     "traceback": [
      "\u001b[1;31m---------------------------------------------------------------------------\u001b[0m",
      "\u001b[1;31mTypeError\u001b[0m                                 Traceback (most recent call last)",
      "\u001b[1;32m~\\AppData\\Local\\Temp/ipykernel_11808/2232015586.py\u001b[0m in \u001b[0;36m<module>\u001b[1;34m\u001b[0m\n\u001b[0;32m      2\u001b[0m \u001b[0ma\u001b[0m\u001b[1;33m=\u001b[0m\u001b[1;33m[\u001b[0m\u001b[1;36m10\u001b[0m\u001b[1;33m,\u001b[0m\u001b[1;36m20\u001b[0m\u001b[1;33m,\u001b[0m\u001b[1;36m30\u001b[0m\u001b[1;33m,\u001b[0m\u001b[1;36m40\u001b[0m\u001b[1;33m,\u001b[0m\u001b[1;36m50\u001b[0m\u001b[1;33m]\u001b[0m\u001b[1;33m\u001b[0m\u001b[1;33m\u001b[0m\u001b[0m\n\u001b[0;32m      3\u001b[0m \u001b[1;31m# a = np.array(a)\u001b[0m\u001b[1;33m\u001b[0m\u001b[1;33m\u001b[0m\u001b[0m\n\u001b[1;32m----> 4\u001b[1;33m \u001b[0ma\u001b[0m\u001b[1;33m=\u001b[0m\u001b[0ma\u001b[0m\u001b[1;33m+\u001b[0m\u001b[1;36m1\u001b[0m\u001b[1;33m\u001b[0m\u001b[1;33m\u001b[0m\u001b[0m\n\u001b[0m\u001b[0;32m      5\u001b[0m \u001b[0ma\u001b[0m\u001b[1;33m\u001b[0m\u001b[1;33m\u001b[0m\u001b[0m\n",
      "\u001b[1;31mTypeError\u001b[0m: can only concatenate list (not \"int\") to list"
     ]
    }
   ],
   "source": [
    "#Cara 1 : Menambahkan dengan bil. skalar\n",
    "a=[10,20,30,40,50]\n",
    "a = np.array(a)\n",
    "a=a+1\n",
    "a\n"
   ]
  },
  {
   "cell_type": "code",
   "execution_count": 48,
   "metadata": {},
   "outputs": [],
   "source": [
    "# Cara 2 : Menambahkan dengan \"Special Array\"\n",
    "#np.ones()\n",
    "\n"
   ]
  },
  {
   "cell_type": "markdown",
   "metadata": {},
   "source": [
    "**NOMOR 2**\n",
    "\n",
    "Buatlah sebuah array seperti dibawah ini dan keluarkan element yang bernilai negatif.\n",
    "\n",
    "```\n",
    "b = [-3, 0, -2, 1, 2, 3, -4]\n",
    "```"
   ]
  },
  {
   "cell_type": "code",
   "execution_count": 14,
   "metadata": {},
   "outputs": [
    {
     "data": {
      "text/plain": [
       "array([-3,  0, -2,  1,  2,  3, -4])"
      ]
     },
     "execution_count": 14,
     "metadata": {},
     "output_type": "execute_result"
    }
   ],
   "source": [
    "#Buat array\n",
    "b = [-3, 0, -2, 1, 2, 3, -4]\n",
    "b=np.array(b)\n",
    "b\n",
    "\n",
    "\n"
   ]
  },
  {
   "cell_type": "code",
   "execution_count": 15,
   "metadata": {},
   "outputs": [
    {
     "data": {
      "text/plain": [
       "array([ True, False,  True, False, False, False,  True])"
      ]
     },
     "execution_count": 15,
     "metadata": {},
     "output_type": "execute_result"
    }
   ],
   "source": [
    "# Jika `b < 0` maka hanya akan dilakukan pengecekan apakah element di `b` kurang dari 0 atau tidak\n",
    "b<0\n"
   ]
  },
  {
   "cell_type": "code",
   "execution_count": 17,
   "metadata": {},
   "outputs": [
    {
     "data": {
      "text/plain": [
       "array([1, 2, 3])"
      ]
     },
     "execution_count": 17,
     "metadata": {},
     "output_type": "execute_result"
    }
   ],
   "source": [
    "# Jika `b[b < 0]` maka element di `b` kurang dari 0 akan ditampilkan\n",
    "b[b<0]\n",
    "b[b>0]\n",
    "\n"
   ]
  },
  {
   "cell_type": "markdown",
   "metadata": {},
   "source": [
    "**NOMOR 3**\n",
    "\n",
    "Buatlah sebuah array seperti dibawah ini. Keluarkan element yang bernilai positif kemudian urutkan dari nilai yang kecil ke besar\n",
    "\n",
    "```\n",
    "c = [10, -8, 4, 5, -41, 7, 5, -4]\n",
    "```"
   ]
  },
  {
   "cell_type": "code",
   "execution_count": 34,
   "metadata": {},
   "outputs": [
    {
     "data": {
      "text/plain": [
       "array([ 10,  -8,   4,   5, -41,   7,   5,  -4])"
      ]
     },
     "execution_count": 34,
     "metadata": {},
     "output_type": "execute_result"
    }
   ],
   "source": [
    "#Buat array\n",
    "c = [10, -8, 4, 5, -41, 7, 5, -4]\n",
    "c = np.array(c)\n",
    "c\n",
    "# c=np.array(c)\n",
    "# c[c>0]"
   ]
  },
  {
   "cell_type": "code",
   "execution_count": 36,
   "metadata": {},
   "outputs": [
    {
     "data": {
      "text/plain": [
       "array([-41,  -8,  -4,   4,   5,   5,   7,  10])"
      ]
     },
     "execution_count": 36,
     "metadata": {},
     "output_type": "execute_result"
    }
   ],
   "source": [
    "# Sort elemen dari bilangan kecil ke besar\n",
    "#np.sort(nama_array)\n",
    "np.sort(c)"
   ]
  },
  {
   "cell_type": "code",
   "execution_count": 39,
   "metadata": {},
   "outputs": [
    {
     "data": {
      "text/plain": [
       "array([10,  7,  5,  5,  4])"
      ]
     },
     "execution_count": 39,
     "metadata": {},
     "output_type": "execute_result"
    }
   ],
   "source": [
    "# Sort elemen dari bilangan besar ke kecil\n",
    "#sort dan Slicing dengan step = -1\n",
    "np.sort(c[c>0])[::-1]"
   ]
  },
  {
   "cell_type": "markdown",
   "metadata": {},
   "source": [
    "**NOMOR 4**\n",
    "\n",
    "Buatlah array seperti dibawah ini kemudian tumpukkan secara horizontal dan vertikal satu sama lain.\n",
    "\n",
    "```\n",
    "d = [1, 2, 3, 4, 5]\n",
    "e = [6, 7, 8, 9, 10]\n",
    "```"
   ]
  },
  {
   "cell_type": "code",
   "execution_count": 43,
   "metadata": {},
   "outputs": [
    {
     "name": "stdout",
     "output_type": "stream",
     "text": [
      "[1 2 3 4 5] [ 6  7  8  9 10]\n"
     ]
    }
   ],
   "source": [
    "#Buat array\n",
    "d = [1, 2, 3, 4, 5]\n",
    "e = [6, 7, 8, 9, 10]\n",
    "d= np.array(d)\n",
    "e= np.array(e)\n",
    "print(d,e)"
   ]
  },
  {
   "cell_type": "code",
   "execution_count": 46,
   "metadata": {},
   "outputs": [
    {
     "name": "stdout",
     "output_type": "stream",
     "text": [
      "[ 1  2  3  4  5  6  7  8  9 10]\n",
      "[[ 1  2  3  4  5]\n",
      " [ 6  7  8  9 10]]\n"
     ]
    }
   ],
   "source": [
    "#Stacking Horizontal -> np.hstack((array1,array2))\n",
    "#Stacking Vertikal -> np.vstack((array1,array2))\n",
    "print(np.hstack((d,e)))\n",
    "print(np.vstack((d,e)))\n"
   ]
  },
  {
   "cell_type": "markdown",
   "metadata": {},
   "source": [
    "**NOMOR 5**\n",
    "\n",
    "Buatlah dua buah array seperti dibawah ini yang berasal dari 1 deklarasi variabel yang sama. Kemudian, kalikan array pertama dengan `2` dan kalikan array kedua dengan `3`.\n",
    "\n",
    "```\n",
    "f = [10, 20, 30, 40, 50]\n",
    "```\n",
    "\n",
    "Ekspektasi output : \n",
    "```\n",
    "hasil perkalian dengan 2 -> [20, 40, 60, 80, 100] \n",
    "hasil perkalian dengan 3 -> [30, 60, 90, 120, 150]\n",
    "```"
   ]
  },
  {
   "cell_type": "code",
   "execution_count": 47,
   "metadata": {},
   "outputs": [
    {
     "data": {
      "text/plain": [
       "array([10, 20, 30, 40, 50])"
      ]
     },
     "execution_count": 47,
     "metadata": {},
     "output_type": "execute_result"
    }
   ],
   "source": [
    "#Buat array f\n",
    "f = [10, 20, 30, 40, 50]\n",
    "f=np.array(f)\n",
    "f"
   ]
  },
  {
   "cell_type": "code",
   "execution_count": 48,
   "metadata": {},
   "outputs": [
    {
     "data": {
      "text/plain": [
       "array([10, 20, 30, 40, 50])"
      ]
     },
     "execution_count": 48,
     "metadata": {},
     "output_type": "execute_result"
    }
   ],
   "source": [
    "#Copy array f ke variabel baru\n",
    "f2 = f\n",
    "f2\n"
   ]
  },
  {
   "cell_type": "code",
   "execution_count": 53,
   "metadata": {},
   "outputs": [
    {
     "name": "stdout",
     "output_type": "stream",
     "text": [
      "[ 40  80 120 160 200]\n",
      "[ 90 180 270 360 450]\n"
     ]
    }
   ],
   "source": [
    "#Kalikan masing2 variabel\n",
    "f=f*2\n",
    "f2=f2*3\n",
    "print(f)\n",
    "print(f2)"
   ]
  },
  {
   "cell_type": "markdown",
   "metadata": {},
   "source": [
    "**NOMOR 6**\n",
    "\n",
    "Buatlah sebuah array seperti dibawah ini dan hitung total jumlahnya.\n",
    "\n",
    "```\n",
    "h = [1, 2, 3, 4, 5]\n",
    "j = [ [1, 2, 3],\n",
    "      [4, 5, 6]]\n",
    "```\n",
    "\n",
    "Ekspektasi output :\n",
    "\n",
    "```\n",
    "total nilai h = 15\n",
    "total nilai j berdasarkan penjumlahan baris = [6, 15]\n",
    "total nilai j berdasarkan penjumlahan kolom = [5, 7, 9]\n",
    "```"
   ]
  },
  {
   "cell_type": "code",
   "execution_count": 54,
   "metadata": {},
   "outputs": [
    {
     "name": "stdout",
     "output_type": "stream",
     "text": [
      "[1 2 3 4 5]\n",
      "[[1 2 3]\n",
      " [4 5 6]]\n"
     ]
    }
   ],
   "source": [
    "#Buat array\n",
    "h = [1, 2, 3, 4, 5]\n",
    "j = [ [1, 2, 3],\n",
    "      [4, 5, 6]]\n",
    "\n",
    "h = np.array(h)\n",
    "j = np.array(j)\n",
    "\n",
    "print(h)\n",
    "print(j)\n"
   ]
  },
  {
   "cell_type": "code",
   "execution_count": 57,
   "metadata": {},
   "outputs": [
    {
     "data": {
      "text/plain": [
       "21"
      ]
     },
     "execution_count": 57,
     "metadata": {},
     "output_type": "execute_result"
    }
   ],
   "source": [
    "#jumlahkan array h\n",
    "#.sum()\n",
    "h.sum()"
   ]
  },
  {
   "cell_type": "code",
   "execution_count": 58,
   "metadata": {},
   "outputs": [
    {
     "data": {
      "text/plain": [
       "array([5, 7, 9])"
      ]
     },
     "execution_count": 58,
     "metadata": {},
     "output_type": "execute_result"
    }
   ],
   "source": [
    "#Penjumlahan berdasarkan baris\n",
    "#baris -> axis = 1\n",
    "j.sum(axis=0)\n",
    "\n"
   ]
  },
  {
   "cell_type": "code",
   "execution_count": 59,
   "metadata": {},
   "outputs": [
    {
     "data": {
      "text/plain": [
       "array([ 6, 15])"
      ]
     },
     "execution_count": 59,
     "metadata": {},
     "output_type": "execute_result"
    }
   ],
   "source": [
    "#Penjumlahan berdasarkan kolom\n",
    "# kolom -> axis = 0\n",
    "j.sum(axis=1)\n",
    "\n"
   ]
  },
  {
   "cell_type": "markdown",
   "metadata": {},
   "source": [
    "**NOMOR 7**\n",
    "\n",
    "Buatlah sebuah array seperti dibawah ini dan cari nilai `min`, `max`, dan `sum` per baris dan per kolom.\n",
    "\n",
    "```\n",
    "k = [ [1, 2, 3],\n",
    "      [4, 5, 6]]\n",
    "```"
   ]
  },
  {
   "cell_type": "code",
   "execution_count": 61,
   "metadata": {},
   "outputs": [
    {
     "data": {
      "text/plain": [
       "array([[1, 2, 3],\n",
       "       [4, 5, 6]])"
      ]
     },
     "execution_count": 61,
     "metadata": {},
     "output_type": "execute_result"
    }
   ],
   "source": [
    "#Buat array\n",
    "k = [ [1, 2, 3],\n",
    "      [4, 5, 6]]\n",
    "k = np.array(k)\n",
    "k\n"
   ]
  },
  {
   "cell_type": "code",
   "execution_count": 75,
   "metadata": {},
   "outputs": [
    {
     "data": {
      "text/plain": [
       "array([1, 2, 3])"
      ]
     },
     "execution_count": 75,
     "metadata": {},
     "output_type": "execute_result"
    }
   ],
   "source": [
    "#Mencari nilai minimum -> .min()\n",
    "#Mencari nilai maximum - > .max()\n",
    "#Mencari nilai total -> .sum()\n",
    "k.min(axis=0)\n"
   ]
  },
  {
   "cell_type": "markdown",
   "metadata": {},
   "source": [
    "**NOMOR 8**\n",
    "\n",
    "Buatlah sebuah array seperti dibawah ini dan cari baris kedua dan kolom kedua.\n",
    "\n",
    "```\n",
    "n = [ [1, 2, 3], \n",
    "      [4, 5, 6],\n",
    "      [7, 8, 9]]\n",
    "```"
   ]
  },
  {
   "cell_type": "code",
   "execution_count": 49,
   "metadata": {},
   "outputs": [
    {
     "data": {
      "text/plain": [
       "array([[1, 2, 3],\n",
       "       [4, 5, 6],\n",
       "       [7, 8, 9]])"
      ]
     },
     "execution_count": 49,
     "metadata": {},
     "output_type": "execute_result"
    }
   ],
   "source": [
    "#Buat array\n",
    "n = [ [1, 2, 3], \n",
    "      [4, 5, 6],\n",
    "      [7, 8, 9]]\n",
    "n= np.array(n)\n",
    "n\n"
   ]
  },
  {
   "cell_type": "code",
   "execution_count": 51,
   "metadata": {},
   "outputs": [
    {
     "data": {
      "text/plain": [
       "9"
      ]
     },
     "execution_count": 51,
     "metadata": {},
     "output_type": "execute_result"
    }
   ],
   "source": [
    "#Get baris&Kolom\n",
    "# nama_array[baris,kolom]\n",
    "n[2,2]"
   ]
  },
  {
   "cell_type": "code",
   "execution_count": 65,
   "metadata": {},
   "outputs": [
    {
     "data": {
      "text/plain": [
       "array([7, 8, 9])"
      ]
     },
     "execution_count": 65,
     "metadata": {},
     "output_type": "execute_result"
    }
   ],
   "source": [
    "# Get baris kedua\n",
    "# Bisa menggunakan n[1] atau n[1, :]\n",
    "n[2]\n"
   ]
  },
  {
   "cell_type": "code",
   "execution_count": 66,
   "metadata": {},
   "outputs": [
    {
     "data": {
      "text/plain": [
       "array([2, 5, 8])"
      ]
     },
     "execution_count": 66,
     "metadata": {},
     "output_type": "execute_result"
    }
   ],
   "source": [
    "# Get kolom kedua (menampilkan secara array 1D)\n",
    "#n[:, 1]\n",
    "n[:,1]\n"
   ]
  },
  {
   "cell_type": "code",
   "execution_count": 67,
   "metadata": {},
   "outputs": [
    {
     "data": {
      "text/plain": [
       "array([[3],\n",
       "       [6],\n",
       "       [9]])"
      ]
     },
     "execution_count": 67,
     "metadata": {},
     "output_type": "execute_result"
    }
   ],
   "source": [
    "# Get kolom kedua (menampilkan secara array 2D)\n",
    "# nama_array[:, [index_kolom]]\n",
    "n[:,[2]]\n"
   ]
  },
  {
   "cell_type": "code",
   "execution_count": 73,
   "metadata": {},
   "outputs": [
    {
     "data": {
      "text/plain": [
       "array([[1, 0, 0],\n",
       "       [0, 5, 0],\n",
       "       [0, 0, 9]])"
      ]
     },
     "execution_count": 73,
     "metadata": {},
     "output_type": "execute_result"
    }
   ],
   "source": [
    "# Get elemen diagonal (dari kiri ke kanan)\n",
    "# np.diag()\n",
    "# buka dokumentasi\n",
    "\n",
    "np.diag(np.diag(n))\n"
   ]
  },
  {
   "cell_type": "code",
   "execution_count": 136,
   "metadata": {},
   "outputs": [
    {
     "data": {
      "text/plain": [
       "array([[3, 0, 0],\n",
       "       [0, 5, 0],\n",
       "       [0, 0, 7]])"
      ]
     },
     "execution_count": 136,
     "metadata": {},
     "output_type": "execute_result"
    }
   ],
   "source": [
    "# Get elemen diagonal (dari kanan ke kiri)\n",
    "# np.diag(np.fliplr(n))\n",
    "(np.diag(np.diag(np.fliplr(n))))\n"
   ]
  },
  {
   "cell_type": "markdown",
   "metadata": {},
   "source": [
    "**NOMOR 9**\n",
    "\n",
    "Buatlah sebuah array seperti dibawah ini dan cari nilai `min`, `max`, dan `sum` untuk baris kedua dan kolom kedua.\n",
    "\n",
    "```\n",
    "m = [ [1, 2, 3], \n",
    "      [4, 5, 6],\n",
    "      [7, 8, 9]]\n",
    "```"
   ]
  },
  {
   "cell_type": "code",
   "execution_count": 122,
   "metadata": {},
   "outputs": [
    {
     "data": {
      "text/plain": [
       "array([[1, 2, 3],\n",
       "       [4, 5, 6],\n",
       "       [7, 8, 9]])"
      ]
     },
     "execution_count": 122,
     "metadata": {},
     "output_type": "execute_result"
    }
   ],
   "source": [
    "#Buat array\n",
    "m = [ [1, 2, 3], \n",
    "      [4, 5, 6],\n",
    "      [7, 8, 9]]\n",
    "m = np.array(m)\n",
    "m"
   ]
  },
  {
   "cell_type": "code",
   "execution_count": 124,
   "metadata": {},
   "outputs": [
    {
     "name": "stdout",
     "output_type": "stream",
     "text": [
      "[4 5 6]\n",
      "[2 5 8]\n"
     ]
    }
   ],
   "source": [
    "#buat variabel yang berisikan baris ke 2\n",
    "m1=m[1]\n",
    "print(m1)\n",
    "#buat variabel yang berisikan kolom ke 2\n",
    "m2=m[:,1]\n",
    "print(m2)"
   ]
  },
  {
   "cell_type": "code",
   "execution_count": 125,
   "metadata": {},
   "outputs": [
    {
     "name": "stdout",
     "output_type": "stream",
     "text": [
      "sum baris 2\n",
      "15\n",
      "sum kolom 2\n",
      "15\n",
      "\n",
      " min baris 2\n",
      "4\n",
      "min kolom 2\n",
      "2\n",
      "\n",
      " max baris 2\n",
      "6\n",
      "max kolom 2\n",
      "8\n"
     ]
    }
   ],
   "source": [
    "#Cari masing2 nilai sum, min, dan max\n",
    "print('sum baris 2')\n",
    "print(np.sum(m1))\n",
    "print('sum kolom 2')\n",
    "print(np.sum(m2))\n",
    "\n",
    "print('\\n min baris 2')\n",
    "print(np.min(m1))\n",
    "print('min kolom 2')\n",
    "print(np.min(m2))\n",
    "\n",
    "print('\\n max baris 2')\n",
    "print(np.max(m1))\n",
    "print('max kolom 2')\n",
    "print(np.max(m2))\n",
    "# print('sum baris 2')\n",
    "# print(np.sum(m1))"
   ]
  },
  {
   "cell_type": "markdown",
   "metadata": {},
   "source": [
    "**NOMOR 10**\n",
    "\n",
    "<img src='https://i.ibb.co/JvBzgWn/greyscale.png'>\n",
    "\n",
    "Download image [disini](https://i.ibb.co/JvBzgWn/greyscale.png)\n",
    "\n",
    "* Load gambar tersebut dengan menggunakan library matplotlib.\n",
    "* Jawab pertanyaan berikut ini : \n",
    "  - Berapa ukuran gambar tersebut.\n",
    "  - Berapa total piksel/element pada gambar tersebut.\n",
    "  - Cerahkan gambar tersebut dengan menambahkan suatu angka."
   ]
  },
  {
   "cell_type": "code",
   "execution_count": 91,
   "metadata": {},
   "outputs": [
    {
     "name": "stdout",
     "output_type": "stream",
     "text": [
      "Requirement already satisfied: matplotlib in c:\\programdata\\anaconda3\\lib\\site-packages (3.4.3)\n",
      "Requirement already satisfied: pyparsing>=2.2.1 in c:\\programdata\\anaconda3\\lib\\site-packages (from matplotlib) (3.0.4)\n",
      "Requirement already satisfied: python-dateutil>=2.7 in c:\\programdata\\anaconda3\\lib\\site-packages (from matplotlib) (2.8.2)\n",
      "Requirement already satisfied: cycler>=0.10 in c:\\programdata\\anaconda3\\lib\\site-packages (from matplotlib) (0.10.0)\n",
      "Requirement already satisfied: pillow>=6.2.0 in c:\\programdata\\anaconda3\\lib\\site-packages (from matplotlib) (8.4.0)\n",
      "Requirement already satisfied: kiwisolver>=1.0.1 in c:\\programdata\\anaconda3\\lib\\site-packages (from matplotlib) (1.3.1)\n",
      "Requirement already satisfied: numpy>=1.16 in c:\\programdata\\anaconda3\\lib\\site-packages (from matplotlib) (1.20.3)\n",
      "Requirement already satisfied: six in c:\\programdata\\anaconda3\\lib\\site-packages (from cycler>=0.10->matplotlib) (1.16.0)\n"
     ]
    }
   ],
   "source": [
    "#Install matplotlib in jupyter\n",
    "import sys  \n",
    "!{sys.executable} -m pip install --user matplotlib"
   ]
  },
  {
   "cell_type": "code",
   "execution_count": 92,
   "metadata": {},
   "outputs": [],
   "source": [
    "#Import matplotlib\n",
    "\n",
    "import matplotlib.pyplot as plt"
   ]
  },
  {
   "cell_type": "code",
   "execution_count": 97,
   "metadata": {},
   "outputs": [],
   "source": [
    "#Baca gambar menggunakan plt.imread('location_gambar') lalu masukkan ke variabel\n",
    "img = plt.imread('D:/DATA MASYARAKAT/Confidential/Preparation for Next Chapter/Hacktiv8/Github/learning_journal/phase_0/week_1/greyscale.png')\n"
   ]
  },
  {
   "cell_type": "code",
   "execution_count": 101,
   "metadata": {},
   "outputs": [
    {
     "data": {
      "text/plain": [
       "(700, 1120)"
      ]
     },
     "execution_count": 101,
     "metadata": {},
     "output_type": "execute_result"
    }
   ],
   "source": [
    "#Cek ukuran gambar\n",
    "#.shape\n",
    "img.shape"
   ]
  },
  {
   "cell_type": "code",
   "execution_count": 102,
   "metadata": {},
   "outputs": [
    {
     "data": {
      "text/plain": [
       "784000"
      ]
     },
     "execution_count": 102,
     "metadata": {},
     "output_type": "execute_result"
    }
   ],
   "source": [
    "# Total Piksel\n",
    "#.size\n",
    "img.size\n"
   ]
  },
  {
   "cell_type": "code",
   "execution_count": 103,
   "metadata": {},
   "outputs": [
    {
     "data": {
      "text/plain": [
       "array([[0.37254903, 0.3529412 , 0.34509805, ..., 0.        , 0.        ,\n",
       "        0.        ],\n",
       "       [0.38431373, 0.36078432, 0.34509805, ..., 0.        , 0.        ,\n",
       "        0.        ],\n",
       "       [0.3882353 , 0.36078432, 0.34117648, ..., 0.        , 0.        ,\n",
       "        0.        ],\n",
       "       ...,\n",
       "       [0.08235294, 0.07450981, 0.09411765, ..., 0.0627451 , 0.0627451 ,\n",
       "        0.06666667],\n",
       "       [0.07843138, 0.07450981, 0.10588235, ..., 0.06666667, 0.06666667,\n",
       "        0.06666667],\n",
       "       [0.05882353, 0.07058824, 0.12156863, ..., 0.07843138, 0.07843138,\n",
       "        0.07843138]], dtype=float32)"
      ]
     },
     "execution_count": 103,
     "metadata": {},
     "output_type": "execute_result"
    }
   ],
   "source": [
    "#Nilai piksel\n",
    "#img, udah di scalling\n",
    "img\n"
   ]
  },
  {
   "cell_type": "code",
   "execution_count": 104,
   "metadata": {},
   "outputs": [],
   "source": [
    "#Memastikan tipe data menjadi array\n",
    "#np.asarray()\n",
    "img = np.asarray(img)\n"
   ]
  },
  {
   "cell_type": "code",
   "execution_count": 108,
   "metadata": {},
   "outputs": [
    {
     "data": {
      "text/plain": [
       "0.39215686274509803"
      ]
     },
     "execution_count": 108,
     "metadata": {},
     "output_type": "execute_result"
    }
   ],
   "source": [
    "#Menentukan nilai yg akan ditambahkan ke piksel\n",
    "#Ubah ke skala 0-1, divide by 255 (highest pixel value)\n",
    "added_value = 100/255\n",
    "# added_value = added_value/255\n",
    "added_value\n"
   ]
  },
  {
   "cell_type": "code",
   "execution_count": 110,
   "metadata": {},
   "outputs": [],
   "source": [
    "#Copy datanya dulu (penting setiap ingin memodifikasi data) ke variabel baru\n",
    "new_img=img.copy()\n",
    "\n",
    "#tambahkan nilai piksel ke gambar\n",
    "new_img = new_img + added_value "
   ]
  },
  {
   "cell_type": "code",
   "execution_count": 119,
   "metadata": {},
   "outputs": [
    {
     "data": {
      "text/plain": [
       "<matplotlib.image.AxesImage at 0x2c1dc06d490>"
      ]
     },
     "execution_count": 119,
     "metadata": {},
     "output_type": "execute_result"
    },
    {
     "data": {
      "image/png": "[encoded data removed]",
      "text/plain": [
       "<Figure size 432x288 with 1 Axes>"
      ]
     },
     "metadata": {
      "needs_background": "light"
     },
     "output_type": "display_data"
    }
   ],
   "source": [
    "# Menampilkan gambar original\n",
    "# `img` : array gambar\n",
    "# `cmap` : color map #figure\n",
    "# `vmin` : value minimum #figure\n",
    "# `vmax` : value maximum #figure\n",
    "#plt.imshow(nama_variabel, cmap='gray', vmin=0, vmax=1)\n",
    "plt.imshow(img ,cmap='gray', vmin=0, vmax=1)\n"
   ]
  },
  {
   "cell_type": "code",
   "execution_count": 86,
   "metadata": {},
   "outputs": [],
   "source": [
    "# Menampilkan gambar yg sudah ditambah suatu value\n"
   ]
  }
 ],
 "metadata": {
  "interpreter": {
   "hash": "fbe69909b876abbd803d291e51ebabcdbbeff4e7f625f723ebefe76e750e4611"
  },
  "kernelspec": {
   "display_name": "Python 3.7.9 64-bit",
   "language": "python",
   "name": "python3"
  },
  "language_info": {
   "codemirror_mode": {
    "name": "ipython",
    "version": 3
   },
   "file_extension": ".py",
   "mimetype": "text/x-python",
   "name": "python",
   "nbconvert_exporter": "python",
   "pygments_lexer": "ipython3",
   "version": "3.9.7"
  },
  "orig_nbformat": 4
 },
 "nbformat": 4,
 "nbformat_minor": 2
}
