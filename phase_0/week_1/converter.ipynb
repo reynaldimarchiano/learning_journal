{
 "cells": [
  {
   "cell_type": "markdown",
   "metadata": {},
   "source": [
    "# KONVERSI SUHU"
   ]
  },
  {
   "cell_type": "code",
   "execution_count": 23,
   "metadata": {},
   "outputs": [
    {
     "name": "stdout",
     "output_type": "stream",
     "text": [
      "100\n",
      "k <class 'str'>\n",
      "f <class 'str'>\n",
      "-173.14999999999998 F\n"
     ]
    }
   ],
   "source": [
    "# Function konversi dari KELVIN\n",
    "\n",
    "def kelvincelcius(nilai,satuan):\n",
    "    if satuan.upper() =='K':\n",
    "        nilai=float(nilai)\n",
    "        nilai -= 273.15\n",
    "       \n",
    "    # else:\n",
    "    #     print('salah satuan suhu')\n",
    "    return nilai\n",
    "\n",
    "def kelvinfahrenheit(nilai,satuan):\n",
    "    if satuan.upper() =='K':\n",
    "        nilai=float(nilai)\n",
    "        nilai=fahrenheitcelcius(kelvincelcius(nilai,satuan),satuan)\n",
    "        return nilai\n",
    "\n",
    "nilai = input(\"Masukkan nilai suhu : \")\n",
    "print(nilai)\n",
    "satuan = input(\"Masukkan satuan dari nilai suhu (C / F / K): \")\n",
    "print(satuan,type(satuan))\n",
    "\n",
    "if satuan.upper() == 'K':\n",
    "    pilihan = input(\"Konversi ke Celcius atau Fahrenheit? (C / F) : \")\n",
    "    print(pilihan,type(satuan))\n",
    "    if pilihan.upper() == 'C':\n",
    "        nilai=kelvincelcius(nilai,satuan)\n",
    "        print(nilai,'C')\n",
    "    elif pilihan.upper() == 'F':\n",
    "        nilai=kelvinfahrenheit(nilai,satuan)\n",
    "        print(nilai,'F')\n",
    "    else:\n",
    "        print('salah satuan suhu')\n",
    "\n"
   ]
  },
  {
   "cell_type": "code",
   "execution_count": 18,
   "metadata": {},
   "outputs": [],
   "source": [
    "# function konversi dari CELCIUS\n",
    "\n",
    "def celciuskelvin(nilai,satuan):\n",
    "    if satuan.upper() == 'C':\n",
    "        nilai=float(nilai)\n",
    "        nilai += 273.15\n",
    "        \n",
    "    # else:\n",
    "    #     print('salah satuan suhu')\n",
    "    return nilai\n",
    "\n",
    "def celciusfahrenheit(nilai, satuan):\n",
    "    if satuan.upper() == 'C':\n",
    "        nilai=float(nilai)\n",
    "        nilai = (9/5 * nilai) + 32\n",
    "        \n",
    "    else:\n",
    "        print('salah satuan suhu')\n",
    "    return nilai\n",
    "    \n"
   ]
  },
  {
   "cell_type": "code",
   "execution_count": 8,
   "metadata": {},
   "outputs": [],
   "source": [
    "# function konversi suhu dari FAHRENHEIT\n",
    "\n",
    "def fahrenheitcelcius(nilai, satuan):\n",
    "    if satuan.upper() == 'F':\n",
    "        nilai=float(nilai)\n",
    "        nilai=(nilai-32)*5/9\n",
    "        \n",
    "    # else:\n",
    "    #     print('salah satuan suhu')\n",
    "    return nilai\n",
    "\n",
    "def fahrenheitkelvin(nilai,satuan):\n",
    "    if satuan.upper() == 'F':\n",
    "        nilai=fahrenheitcelcius(nilai,satuan)+273.15\n",
    "        \n",
    "    # else:\n",
    "    #     print('salah satuan suhu')\n",
    "    return nilai\n"
   ]
  },
  {
   "cell_type": "code",
   "execution_count": 11,
   "metadata": {},
   "outputs": [
    {
     "name": "stdout",
     "output_type": "stream",
     "text": [
      "100 F\n"
     ]
    }
   ],
   "source": [
    "nilai = input(\"Masukkan nilai suhu : \")\n",
    "satuan = input(\"Masukkan satuan dari nilai suhu (C / F / K): \")\n",
    "\n",
    "if satuan.upper() == 'K':\n",
    "    pilihan = input(\"Konversi ke Celcius atau Fahrenheit? (C / F) : \")\n",
    "    if pilihan.upper() == 'C':\n",
    "        kelvincelcius(nilai,satuan)\n",
    "        print(nilai,'C')\n",
    "    elif pilihan.upper() == 'F':\n",
    "        kelvinfahrenheit(nilai,satuan)\n",
    "        print(nilai,'F')\n",
    "    else:\n",
    "        print('salah satuan suhu')\n",
    "\n",
    "\n",
    "if satuan.upper() == 'C':\n",
    "    pilihan = input(\"Konversi ke Celcius atau Fahrenheit? (F / K) : \")\n",
    "    if pilihan.upper() == 'F':\n",
    "        celciusfahrenheit(nilai, satuan)\n",
    "        print(nilai, 'F')\n",
    "    elif pilihan.upper() == 'K':\n",
    "        celciuskelvin(nilai,satuan)\n",
    "        print(nilai,'K')\n",
    "    else:\n",
    "        print('salah satuan suhu')\n",
    "\n",
    "if satuan.upper() == 'F':\n",
    "    pilihan = input(\"Konversi ke Celcius atau Fahrenheit? (C / K) : \")\n",
    "    if pilihan.upper() == 'C':\n",
    "        fahrenheitcelcius(nilai, satuan)\n",
    "        print(nilai,'C')\n",
    "    elif pilihan.upper() == 'K':\n",
    "        fahrenheitkelvin(nilai,satuan)\n",
    "        print(nilai, 'K')\n",
    "    else:\n",
    "        print('salah satuan suhu')"
   ]
  },
  {
   "cell_type": "code",
   "execution_count": 25,
   "metadata": {},
   "outputs": [
    {
     "name": "stdout",
     "output_type": "stream",
     "text": [
      "-173.14999999999998 C\n",
      "salah satuan suhu\n",
      "-173.14999999999998 F\n"
     ]
    }
   ],
   "source": [
    "nilai = input(\"Masukkan nilai suhu : \")\n",
    "satuan = input(\"Masukkan satuan dari nilai suhu (C / F / K): \")\n",
    "\n",
    "if satuan.upper() == 'K':\n",
    "    pilihan = input(\"Konversi ke Celcius atau Fahrenheit? (C / F) : \")\n",
    "    if pilihan.upper() == 'C':\n",
    "        kelvincelcius(nilai,satuan)\n",
    "    elif pilihan.upper() == 'F':\n",
    "        kelvinfahrenheit(nilai,satuan)\n",
    "    else:\n",
    "        print('salah satuan suhu')"
   ]
  },
  {
   "cell_type": "code",
   "execution_count": null,
   "metadata": {},
   "outputs": [],
   "source": []
  }
 ],
 "metadata": {
  "interpreter": {
   "hash": "b3ba2566441a7c06988d0923437866b63cedc61552a5af99d1f4fb67d367b25f"
  },
  "kernelspec": {
   "display_name": "Python 3.9.7 ('base')",
   "language": "python",
   "name": "python3"
  },
  "language_info": {
   "codemirror_mode": {
    "name": "ipython",
    "version": 3
   },
   "file_extension": ".py",
   "mimetype": "text/x-python",
   "name": "python",
   "nbconvert_exporter": "python",
   "pygments_lexer": "ipython3",
   "version": "3.9.7"
  },
  "orig_nbformat": 4
 },
 "nbformat": 4,
 "nbformat_minor": 2
}
