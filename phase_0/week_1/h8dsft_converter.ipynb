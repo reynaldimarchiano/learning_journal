{
 "cells": [
  {
   "cell_type": "markdown",
   "metadata": {},
   "source": [
    "# KONVERSI SUHU"
   ]
  },
  {
   "cell_type": "code",
   "execution_count": 22,
   "metadata": {},
   "outputs": [],
   "source": [
    "# function konversi dari CELCIUS\n",
    "\n",
    "def celciuskelvin(nilai,satuan):\n",
    "    if satuan.upper() == 'C':\n",
    "        nilai=float(nilai)\n",
    "        nilai += 273.15\n",
    "    return nilai\n",
    "\n",
    "def celciusfahrenheit(nilai, satuan):\n",
    "    if satuan.upper() == 'C':\n",
    "        nilai=float(nilai)\n",
    "        nilai = (9/5 * nilai) + 32\n",
    "    return nilai\n"
   ]
  },
  {
   "cell_type": "code",
   "execution_count": 23,
   "metadata": {},
   "outputs": [],
   "source": [
    "# function konversi suhu dari FAHRENHEIT\n",
    "\n",
    "def fahrenheitcelcius(nilai, satuan):\n",
    "    if satuan.upper() == 'F':\n",
    "        nilai=float(nilai)\n",
    "        nilai=(nilai-32)*5/9\n",
    "    return nilai\n",
    "\n",
    "def fahrenheitkelvin(nilai,satuan):\n",
    "    if satuan.upper() == 'F':\n",
    "        nilai=float(nilai)\n",
    "        nilai=fahrenheitcelcius(nilai,satuan)+273.15\n",
    "    return nilai\n"
   ]
  },
  {
   "cell_type": "code",
   "execution_count": 24,
   "metadata": {},
   "outputs": [],
   "source": [
    "# Function konversi dari KELVIN\n",
    "\n",
    "def kelvincelcius(nilai,satuan):\n",
    "    if satuan.upper() =='K':\n",
    "        nilai=float(nilai)\n",
    "        nilai -= 273.15\n",
    "    return nilai\n",
    "\n",
    "def kelvinfahrenheit(nilai,satuan):\n",
    "    if satuan.upper() =='K':\n",
    "        nilai=float(nilai)\n",
    "        nilai=fahrenheitcelcius(kelvincelcius(nilai,satuan),satuan) #konversi ini bisa menggunakan dari function sebelumnya (kelvin ke celcius dan fahrenheit ke celcius)\n",
    "    return nilai\n"
   ]
  },
  {
   "cell_type": "code",
   "execution_count": 20,
   "metadata": {},
   "outputs": [
    {
     "name": "stdout",
     "output_type": "stream",
     "text": [
      "Suhu yang ingin anda konversi = 100 C \n",
      "----------------------\n"
     ]
    }
   ],
   "source": [
    "# Disini user bisa menginput sendiri angka yang mau dikonversi\n",
    "nilai = input(\"Masukkan nilai suhu : \")\n",
    "satuan = input(\"Masukkan satuan dari nilai suhu (C / F / K): \")\n",
    "print('Suhu yang ingin anda konversi =',nilai,satuan.upper(),'\\n----------------------')\n",
    "\n"
   ]
  },
  {
   "cell_type": "code",
   "execution_count": 21,
   "metadata": {},
   "outputs": [
    {
     "name": "stdout",
     "output_type": "stream",
     "text": [
      "Hasil konversi dari Celcius ke Kelvin = 373.15 K\n"
     ]
    }
   ],
   "source": [
    "# Input dari user akan masuk ke dalam fungsi if di bawah\n",
    "# Pada fungsi if di bawah, user perlu input kembali untuk menentukan satuan suhu yang akan dipilih sebagai hasil konversi\n",
    "\n",
    "if satuan.upper() == 'K':\n",
    "    pilihan = input(\"Konversi ke Celcius atau Fahrenheit? (C / F) : \")\n",
    "    if pilihan.upper() == 'C':\n",
    "        nilai=kelvincelcius(nilai,satuan)\n",
    "        print('Hasil konversi dari Kelvin ke Celcius =',nilai,'C')\n",
    "    elif pilihan.upper() == 'F':\n",
    "        nilai=kelvinfahrenheit(nilai,satuan)\n",
    "        print('Hasil konversi dari Kelvin ke Fahrenheit =',nilai,'F')\n",
    "    else:\n",
    "        print('salah satuan suhu')\n",
    "\n",
    "\n",
    "if satuan.upper() == 'C':\n",
    "    pilihan = input(\"Konversi ke Celcius atau Fahrenheit? (F / K) : \")\n",
    "    if pilihan.upper() == 'F':\n",
    "        nilai=celciusfahrenheit(nilai, satuan)\n",
    "        print('Hasil konversi dari Celcius ke Fahrenheit =',nilai, 'F')\n",
    "    elif pilihan.upper() == 'K':\n",
    "        nilai=celciuskelvin(nilai,satuan)\n",
    "        print('Hasil konversi dari Celcius ke Kelvin =',nilai,'K')\n",
    "    else:\n",
    "        print('salah satuan suhu')\n",
    "\n",
    "if satuan.upper() == 'F':\n",
    "    pilihan = input(\"Konversi ke Celcius atau Fahrenheit? (C / K) : \")\n",
    "    if pilihan.upper() == 'C':\n",
    "        nilai=fahrenheitcelcius(nilai, satuan)\n",
    "        print('Hasil konversi dari Fahrenheit ke Celcius =',nilai,'C')\n",
    "    elif pilihan.upper() == 'K':\n",
    "        nilai=fahrenheitkelvin(nilai,satuan)\n",
    "        print('Hasil konversi dari Fahrenheit ke Kelvin =',nilai, 'K')\n",
    "    else:\n",
    "        print('salah satuan suhu')"
   ]
  },
  {
   "cell_type": "code",
   "execution_count": null,
   "metadata": {},
   "outputs": [],
   "source": []
  }
 ],
 "metadata": {
  "interpreter": {
   "hash": "b3ba2566441a7c06988d0923437866b63cedc61552a5af99d1f4fb67d367b25f"
  },
  "kernelspec": {
   "display_name": "Python 3.9.7 ('base')",
   "language": "python",
   "name": "python3"
  },
  "language_info": {
   "codemirror_mode": {
    "name": "ipython",
    "version": 3
   },
   "file_extension": ".py",
   "mimetype": "text/x-python",
   "name": "python",
   "nbconvert_exporter": "python",
   "pygments_lexer": "ipython3",
   "version": "3.9.7"
  },
  "orig_nbformat": 4
 },
 "nbformat": 4,
 "nbformat_minor": 2
}
