{
 "cells": [
  {
   "cell_type": "code",
   "execution_count": 7,
   "metadata": {},
   "outputs": [
    {
     "name": "stdout",
     "output_type": "stream",
     "text": [
      "1 adalah bilangan ganjil\n",
      "4 adalah bilangan genap\n",
      "6 adalah bilangan genap\n",
      "2 adalah bilangan genap\n",
      "3 adalah bilangan ganjil\n"
     ]
    }
   ],
   "source": [
    "def is_even(x):\n",
    "    for i in x:\n",
    "        if i%2 == 0:\n",
    "            print(f'{i} adalah bilangan genap')\n",
    "        else:\n",
    "            print(f'{i} adalah bilangan ganjil')\n",
    "\n",
    "num= [1,4,6,2,3]#int(input('Masukkan angka:'))\n",
    "is_even(num)"
   ]
  },
  {
   "cell_type": "code",
   "execution_count": 15,
   "metadata": {},
   "outputs": [
    {
     "name": "stdout",
     "output_type": "stream",
     "text": [
      "35\n",
      "[4, 3, 5, 2, 5, 123, 5]\n"
     ]
    }
   ],
   "source": [
    "def tambah(*x):\n",
    "    a=0\n",
    "    for i in x:\n",
    "        a=a+i\n",
    "        \n",
    "    print(a)\n",
    "    return a\n",
    "\n",
    "q=[4,3,5,2,5,123,5]\n",
    "tambah(4,6,2,4,7,2,6,2,2)\n",
    "print(q)"
   ]
  },
  {
   "cell_type": "code",
   "execution_count": 25,
   "metadata": {},
   "outputs": [
    {
     "name": "stdout",
     "output_type": "stream",
     "text": [
      "Nilai BMI anda =  27.250887446663558\n",
      "Joko, anda tergolong overweight\n"
     ]
    }
   ],
   "source": [
    "def bmi(nama,berat,tinggi):\n",
    "    nama=nama.title(\n",
    "    )\n",
    "    bmi=berat/((tinggi/100)**2)\n",
    "    print(\"Nilai BMI anda = \", bmi)\n",
    "    if bmi < 18.5:\n",
    "        print(f\"{nama}, tergolong underweight\")\n",
    "    elif bmi >= 18.5 and bmi <=24.9:\n",
    "        print(f\"{nama}, anda tergolong normal\")\n",
    "    else:\n",
    "        print(f\"{nama}, anda tergolong overweight\")\n",
    "\n",
    "    # print(f'{nama}, nilai bmi anda adalah {bmi}')\n",
    "\n",
    "Nama = int(input('Masukkan nama anda :'))\n"
   ]
  },
  {
   "cell_type": "code",
   "execution_count": 34,
   "metadata": {},
   "outputs": [
    {
     "data": {
      "text/plain": [
       "False"
      ]
     },
     "execution_count": 34,
     "metadata": {},
     "output_type": "execute_result"
    }
   ],
   "source": [
    "nama = input(\"Masukkan kalimat : \")\n",
    "kunci = 'hacktiv8'\n",
    "def deteksinama(x):\n",
    "    return x==kunci\n",
    "\n",
    "deteksinama(nama)\n",
    "\n",
    "\n",
    "    \n"
   ]
  },
  {
   "cell_type": "code",
   "execution_count": 47,
   "metadata": {},
   "outputs": [
    {
     "ename": "SyntaxError",
     "evalue": "invalid syntax (1495110401.py, line 4)",
     "output_type": "error",
     "traceback": [
      "\u001b[1;36m  Input \u001b[1;32mIn [47]\u001b[1;36m\u001b[0m\n\u001b[1;33m    return for kunci in x\u001b[0m\n\u001b[1;37m           ^\u001b[0m\n\u001b[1;31mSyntaxError\u001b[0m\u001b[1;31m:\u001b[0m invalid syntax\n"
     ]
    }
   ],
   "source": [
    "kalimat = input(\"Masukkan kalimat : \")\n",
    "kunci = \"coba\",\"ya\"\n",
    "def deteksikalimat(x):\n",
    "    return kunci in x\n",
    "   \n",
    "\n",
    "deteksikalimat(kalimat)"
   ]
  },
  {
   "cell_type": "code",
   "execution_count": null,
   "metadata": {},
   "outputs": [],
   "source": []
  }
 ],
 "metadata": {
  "interpreter": {
   "hash": "780a354d57c8e214d9717ce5db3cb79ec448e2663d29d7e7694b88eee37d2c96"
  },
  "kernelspec": {
   "display_name": "Python 3.10.2 64-bit",
   "language": "python",
   "name": "python3"
  },
  "language_info": {
   "codemirror_mode": {
    "name": "ipython",
    "version": 3
   },
   "file_extension": ".py",
   "mimetype": "text/x-python",
   "name": "python",
   "nbconvert_exporter": "python",
   "pygments_lexer": "ipython3",
   "version": "3.10.2"
  },
  "orig_nbformat": 4
 },
 "nbformat": 4,
 "nbformat_minor": 2
}
