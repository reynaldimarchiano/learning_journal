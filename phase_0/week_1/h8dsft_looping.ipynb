{
 "cells": [
  {
   "cell_type": "code",
   "execution_count": null,
   "metadata": {},
   "outputs": [],
   "source": [
    "numbers = [951, 402, 984, 651, 360, 69, 408,\n",
    "319, 601, 485, 980, 507, 725, 547, 544, 615,\n",
    "83, 165, 141, 501, 263, 617, 865, 575, 219,\n",
    "390, 984, 592, 236, 105, 942, 941, 386, 462,\n",
    "47, 418, 907, 344, 236, 375, 823, 566, 597,\n",
    "978, 328, 615, 953, 345, 399, 162, 758, 219,\n",
    "918, 237, 412, 566, 826, 248, 866, 950, 626,\n",
    "949]\n",
    "\n",
    "x=[]\n",
    "for i in numbers:\n",
    "    if i == 918:\n",
    "        break\n",
    "    elif i%2 == 0:\n",
    "        x.append(i)\n",
    "print(x)\n",
    "print('Done')"
   ]
  }
 ],
 "metadata": {
  "language_info": {
   "name": "python"
  },
  "orig_nbformat": 4
 },
 "nbformat": 4,
 "nbformat_minor": 2
}
